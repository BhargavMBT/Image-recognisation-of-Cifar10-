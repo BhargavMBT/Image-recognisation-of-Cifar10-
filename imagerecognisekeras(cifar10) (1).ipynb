{
 "cells": [
  {
   "cell_type": "code",
   "execution_count": 19,
   "metadata": {},
   "outputs": [],
   "source": [
    "import numpy as np\n",
    "from keras.models import Sequential\n",
    "from keras.layers import Dense, Dropout, Flatten, BatchNormalization, Activation\n",
    "from keras.layers.convolutional import MaxPooling2D, Conv2D\n",
    "from keras.constraints import maxnorm\n",
    "from keras.utils import np_utils"
   ]
  },
  {
   "cell_type": "code",
   "execution_count": 20,
   "metadata": {},
   "outputs": [],
   "source": [
    "seed = 21"
   ]
  },
  {
   "cell_type": "code",
   "execution_count": 21,
   "metadata": {},
   "outputs": [],
   "source": [
    "from keras.datasets import cifar10"
   ]
  },
  {
   "cell_type": "code",
   "execution_count": 22,
   "metadata": {},
   "outputs": [],
   "source": [
    "(X_train, y_tain), (X_test, y_test) = cifar10.load_data()"
   ]
  },
  {
   "cell_type": "code",
   "execution_count": 23,
   "metadata": {},
   "outputs": [],
   "source": [
    "X_train = X_train.astype('float32')\n",
    "X_test = X_test.astype('float32')\n",
    "X_train = X_train / 255.0\n",
    "X_test = X_test / 255.0\n"
   ]
  },
  {
   "cell_type": "code",
   "execution_count": 24,
   "metadata": {},
   "outputs": [],
   "source": [
    "y_tain = np_utils.to_categorical(y_tain)\n",
    "y_test = np_utils.to_categorical(y_test)\n",
    "class_num = y_test.shape[1]"
   ]
  },
  {
   "cell_type": "code",
   "execution_count": 25,
   "metadata": {},
   "outputs": [],
   "source": [
    "model = Sequential()"
   ]
  },
  {
   "cell_type": "code",
   "execution_count": 26,
   "metadata": {},
   "outputs": [],
   "source": [
    "\n",
    "model.add(Conv2D(32,(3,3), input_shape=X_train.shape[1:], padding = 'same'))\n",
    "model.add(Activation('relu'))"
   ]
  },
  {
   "cell_type": "code",
   "execution_count": 27,
   "metadata": {},
   "outputs": [],
   "source": [
    "\n",
    "model.add(Dropout(0.2))\n",
    "model.add(BatchNormalization())"
   ]
  },
  {
   "cell_type": "code",
   "execution_count": 28,
   "metadata": {},
   "outputs": [],
   "source": [
    "model.add(Conv2D(64, (3, 3), padding='same'))\n",
    "model.add(Activation('relu'))\n",
    "model.add(MaxPooling2D(pool_size=(2,2)))\n",
    "model.add(Dropout(0.2))\n",
    "model.add(BatchNormalization())"
   ]
  },
  {
   "cell_type": "code",
   "execution_count": 29,
   "metadata": {},
   "outputs": [],
   "source": [
    "model.add(Conv2D(64, (3, 3), padding='same'))\n",
    "model.add(Activation('relu'))\n",
    "model.add(MaxPooling2D(pool_size=(2, 2)))\n",
    "model.add(Dropout(0.2))\n",
    "model.add(BatchNormalization())\n",
    "    \n",
    "model.add(Conv2D(128, (3, 3), padding='same'))\n",
    "model.add(Activation('relu'))\n",
    "model.add(Dropout(0.2))\n",
    "model.add(BatchNormalization())"
   ]
  },
  {
   "cell_type": "code",
   "execution_count": 10,
   "metadata": {},
   "outputs": [],
   "source": [
    "model.add(Flatten())\n",
    "model.add(Dropout(0.2))"
   ]
  },
  {
   "cell_type": "markdown",
   "metadata": {},
   "source": [
    "model.add(Dense(class_num))\n",
    "model.add(Activation('softmax'))"
   ]
  },
  {
   "cell_type": "code",
   "execution_count": 11,
   "metadata": {},
   "outputs": [],
   "source": [
    "model.add(Dense(class_num))\n",
    "model.add(Activation('softmax'))"
   ]
  },
  {
   "cell_type": "code",
   "execution_count": 12,
   "metadata": {},
   "outputs": [],
   "source": [
    "epoches = 25\n",
    "optimizer = 'adam'"
   ]
  },
  {
   "cell_type": "code",
   "execution_count": 13,
   "metadata": {},
   "outputs": [],
   "source": [
    "model.compile(loss='categorical_crossentropy', optimizer=optimizer, metrics=['accuracy'])"
   ]
  },
  {
   "cell_type": "code",
   "execution_count": 26,
   "metadata": {},
   "outputs": [
    {
     "name": "stdout",
     "output_type": "stream",
     "text": [
      "Model: \"sequential_1\"\n",
      "_________________________________________________________________\n",
      "Layer (type)                 Output Shape              Param #   \n",
      "=================================================================\n",
      "conv2d_2 (Conv2D)            (None, 32, 32, 32)        896       \n",
      "_________________________________________________________________\n",
      "activation_1 (Activation)    (None, 32, 32, 32)        0         \n",
      "_________________________________________________________________\n",
      "dropout_1 (Dropout)          (None, 32, 32, 32)        0         \n",
      "_________________________________________________________________\n",
      "batch_normalization_1 (Batch (None, 32, 32, 32)        128       \n",
      "_________________________________________________________________\n",
      "conv2d_3 (Conv2D)            (None, 32, 32, 64)        18496     \n",
      "_________________________________________________________________\n",
      "activation_2 (Activation)    (None, 32, 32, 64)        0         \n",
      "_________________________________________________________________\n",
      "max_pooling2d_1 (MaxPooling2 (None, 16, 16, 64)        0         \n",
      "_________________________________________________________________\n",
      "dropout_2 (Dropout)          (None, 16, 16, 64)        0         \n",
      "_________________________________________________________________\n",
      "batch_normalization_2 (Batch (None, 16, 16, 64)        256       \n",
      "_________________________________________________________________\n",
      "conv2d_4 (Conv2D)            (None, 16, 16, 64)        36928     \n",
      "_________________________________________________________________\n",
      "activation_3 (Activation)    (None, 16, 16, 64)        0         \n",
      "_________________________________________________________________\n",
      "max_pooling2d_2 (MaxPooling2 (None, 8, 8, 64)          0         \n",
      "_________________________________________________________________\n",
      "dropout_3 (Dropout)          (None, 8, 8, 64)          0         \n",
      "_________________________________________________________________\n",
      "batch_normalization_3 (Batch (None, 8, 8, 64)          256       \n",
      "_________________________________________________________________\n",
      "conv2d_5 (Conv2D)            (None, 8, 8, 128)         73856     \n",
      "_________________________________________________________________\n",
      "activation_4 (Activation)    (None, 8, 8, 128)         0         \n",
      "_________________________________________________________________\n",
      "dropout_4 (Dropout)          (None, 8, 8, 128)         0         \n",
      "_________________________________________________________________\n",
      "batch_normalization_4 (Batch (None, 8, 8, 128)         512       \n",
      "_________________________________________________________________\n",
      "flatten_1 (Flatten)          (None, 8192)              0         \n",
      "_________________________________________________________________\n",
      "dropout_5 (Dropout)          (None, 8192)              0         \n",
      "_________________________________________________________________\n",
      "dense_1 (Dense)              (None, 10)                81930     \n",
      "_________________________________________________________________\n",
      "activation_5 (Activation)    (None, 10)                0         \n",
      "=================================================================\n",
      "Total params: 213,258\n",
      "Trainable params: 212,682\n",
      "Non-trainable params: 576\n",
      "_________________________________________________________________\n",
      "None\n"
     ]
    }
   ],
   "source": [
    "print(model.summary())"
   ]
  },
  {
   "cell_type": "code",
   "execution_count": 30,
   "metadata": {},
   "outputs": [
    {
     "name": "stdout",
     "output_type": "stream",
     "text": [
      "Train on 50000 samples, validate on 10000 samples\n",
      "Epoch 1/25\n",
      "50000/50000 [==============================] - 175s 4ms/step - loss: 1.7954 - accuracy: 0.4552 - val_loss: 1.3380 - val_accuracy: 0.5504\n",
      "Epoch 2/25\n",
      "50000/50000 [==============================] - 169s 3ms/step - loss: 1.1569 - accuracy: 0.6174 - val_loss: 1.0313 - val_accuracy: 0.6452\n",
      "Epoch 3/25\n",
      "50000/50000 [==============================] - 165s 3ms/step - loss: 0.9207 - accuracy: 0.6832 - val_loss: 0.8875 - val_accuracy: 0.6906\n",
      "Epoch 4/25\n",
      "50000/50000 [==============================] - 172s 3ms/step - loss: 0.7988 - accuracy: 0.7198 - val_loss: 0.7504 - val_accuracy: 0.7415\n",
      "Epoch 5/25\n",
      "50000/50000 [==============================] - 167s 3ms/step - loss: 0.7193 - accuracy: 0.7463 - val_loss: 0.7462 - val_accuracy: 0.7397\n",
      "Epoch 6/25\n",
      "50000/50000 [==============================] - 166s 3ms/step - loss: 0.6700 - accuracy: 0.7656 - val_loss: 0.7258 - val_accuracy: 0.7438\n",
      "Epoch 7/25\n",
      "50000/50000 [==============================] - 7755s 155ms/step - loss: 0.6285 - accuracy: 0.7814 - val_loss: 0.6519 - val_accuracy: 0.7748\n",
      "Epoch 8/25\n",
      "50000/50000 [==============================] - 174s 3ms/step - loss: 0.5917 - accuracy: 0.7928 - val_loss: 0.7914 - val_accuracy: 0.7270\n",
      "Epoch 9/25\n",
      "50000/50000 [==============================] - 168s 3ms/step - loss: 0.5630 - accuracy: 0.8028 - val_loss: 0.6686 - val_accuracy: 0.7642\n",
      "Epoch 10/25\n",
      "50000/50000 [==============================] - 177s 4ms/step - loss: 0.5373 - accuracy: 0.8130 - val_loss: 0.6590 - val_accuracy: 0.7741\n",
      "Epoch 11/25\n",
      "50000/50000 [==============================] - 176s 4ms/step - loss: 0.5129 - accuracy: 0.8209 - val_loss: 0.5895 - val_accuracy: 0.8009\n",
      "Epoch 12/25\n",
      "50000/50000 [==============================] - 174s 3ms/step - loss: 0.4870 - accuracy: 0.8290 - val_loss: 0.6007 - val_accuracy: 0.7939\n",
      "Epoch 13/25\n",
      "50000/50000 [==============================] - 174s 3ms/step - loss: 0.4686 - accuracy: 0.8349 - val_loss: 0.5854 - val_accuracy: 0.8000\n",
      "Epoch 14/25\n",
      "50000/50000 [==============================] - 173s 3ms/step - loss: 0.4521 - accuracy: 0.8417 - val_loss: 0.5766 - val_accuracy: 0.8066\n",
      "Epoch 15/25\n",
      "50000/50000 [==============================] - 202s 4ms/step - loss: 0.4404 - accuracy: 0.8433 - val_loss: 0.6069 - val_accuracy: 0.7948\n",
      "Epoch 16/25\n",
      "50000/50000 [==============================] - 227s 5ms/step - loss: 0.4240 - accuracy: 0.8508 - val_loss: 0.5846 - val_accuracy: 0.8037\n",
      "Epoch 17/25\n",
      "50000/50000 [==============================] - 229s 5ms/step - loss: 0.4188 - accuracy: 0.8526 - val_loss: 0.5673 - val_accuracy: 0.8098\n",
      "Epoch 18/25\n",
      "50000/50000 [==============================] - 231s 5ms/step - loss: 0.4012 - accuracy: 0.8570 - val_loss: 0.5687 - val_accuracy: 0.8065\n",
      "Epoch 19/25\n",
      "50000/50000 [==============================] - 199s 4ms/step - loss: 0.3910 - accuracy: 0.8606 - val_loss: 0.6561 - val_accuracy: 0.7856\n",
      "Epoch 20/25\n",
      "50000/50000 [==============================] - 197s 4ms/step - loss: 0.3812 - accuracy: 0.8636 - val_loss: 0.5730 - val_accuracy: 0.8062\n",
      "Epoch 21/25\n",
      "50000/50000 [==============================] - 194s 4ms/step - loss: 0.3758 - accuracy: 0.8658 - val_loss: 0.5601 - val_accuracy: 0.8153\n",
      "Epoch 22/25\n",
      "50000/50000 [==============================] - 194s 4ms/step - loss: 0.3652 - accuracy: 0.8698 - val_loss: 0.5758 - val_accuracy: 0.8108\n",
      "Epoch 23/25\n",
      "50000/50000 [==============================] - 193s 4ms/step - loss: 0.3543 - accuracy: 0.8735 - val_loss: 0.5431 - val_accuracy: 0.8219\n",
      "Epoch 24/25\n",
      "50000/50000 [==============================] - 204s 4ms/step - loss: 0.3501 - accuracy: 0.8759 - val_loss: 0.5538 - val_accuracy: 0.8155\n",
      "Epoch 25/25\n",
      "50000/50000 [==============================] - 205s 4ms/step - loss: 0.3430 - accuracy: 0.8759 - val_loss: 0.5717 - val_accuracy: 0.8161\n"
     ]
    },
    {
     "data": {
      "text/plain": [
       "<keras.callbacks.callbacks.History at 0x255c64ca1c8>"
      ]
     },
     "execution_count": 30,
     "metadata": {},
     "output_type": "execute_result"
    }
   ],
   "source": [
    "np.random.seed(seed)\n",
    "model.fit(X_train, y_tain, validation_data = (X_test, y_test), epochs=epoches, batch_size = 64)"
   ]
  },
  {
   "cell_type": "code",
   "execution_count": 35,
   "metadata": {},
   "outputs": [
    {
     "name": "stdout",
     "output_type": "stream",
     "text": [
      "Accuracy: 81.61%\n"
     ]
    }
   ],
   "source": [
    "scores = model.evaluate(X_test,y_test, verbose=0)\n",
    "print(\"Accuracy: %.2f%%\" % (scores[1]*100))"
   ]
  },
  {
   "cell_type": "code",
   "execution_count": null,
   "metadata": {},
   "outputs": [],
   "source": []
  }
 ],
 "metadata": {
  "kernelspec": {
   "display_name": "Python 3",
   "language": "python",
   "name": "python3"
  },
  "language_info": {
   "codemirror_mode": {
    "name": "ipython",
    "version": 3
   },
   "file_extension": ".py",
   "mimetype": "text/x-python",
   "name": "python",
   "nbconvert_exporter": "python",
   "pygments_lexer": "ipython3",
   "version": "3.8.3"
  }
 },
 "nbformat": 4,
 "nbformat_minor": 4
}
